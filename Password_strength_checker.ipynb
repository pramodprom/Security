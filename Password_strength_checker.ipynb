{
 "cells": [
  {
   "cell_type": "code",
   "execution_count": 1,
   "id": "921e5377-fb5e-4ca1-876e-34f7f1e0b1f7",
   "metadata": {},
   "outputs": [
    {
     "name": "stdin",
     "output_type": "stream",
     "text": [
      "Enter a password to check its strength:  Pramod@123\n"
     ]
    },
    {
     "name": "stdout",
     "output_type": "stream",
     "text": [
      "Password Strength: Strong (Score: 20.00/10)\n"
     ]
    }
   ],
   "source": [
    "import math\n",
    "import re\n",
    "import string\n",
    "\n",
    "def calculate_entropy(password):\n",
    "    \"\"\"\n",
    "    Calculates the entropy of a password based on character diversity.\n",
    "    \"\"\"\n",
    "    character_sets = [\n",
    "        string.ascii_lowercase,  # a-z\n",
    "        string.ascii_uppercase,  # A-Z\n",
    "        string.digits,  # 0-9\n",
    "        string.punctuation  # Special characters\n",
    "    ]\n",
    "    \n",
    "    pool_size = sum(any(char in charset for char in password) for charset in character_sets) * 26\n",
    "    entropy = len(password) * math.log2(pool_size) if pool_size > 0 else 0\n",
    "    return entropy\n",
    "\n",
    "def check_common_patterns(password):\n",
    "    \"\"\"\n",
    "    Checks if the password contains common patterns like repeated characters or sequences.\n",
    "    \"\"\"\n",
    "    common_patterns = [\n",
    "        r'(.)\\1{2,}',  # Repeated characters (e.g., aaa, 111)\n",
    "        r'1234|abcd|qwerty|password|letmein|admin|welcome'  # Common weak passwords\n",
    "    ]\n",
    "    \n",
    "    for pattern in common_patterns:\n",
    "        if re.search(pattern, password, re.IGNORECASE):\n",
    "            return True\n",
    "    return False\n",
    "\n",
    "def evaluate_password(password):\n",
    "    \"\"\"\n",
    "    Evaluates the strength of a password based on multiple factors.\n",
    "    \"\"\"\n",
    "    length_score = min(len(password), 10) / 10  # Score based on length (max 10 points)\n",
    "    entropy_score = min(calculate_entropy(password) / 60, 1)  # Score based on entropy (normalized)\n",
    "    pattern_penalty = -0.5 if check_common_patterns(password) else 0\n",
    "    \n",
    "    total_score = (length_score + entropy_score + pattern_penalty) * 10  # Convert to a scale of 10\n",
    "    \n",
    "    if total_score < 4:\n",
    "        strength = \"Weak\"\n",
    "    elif total_score < 7:\n",
    "        strength = \"Moderate\"\n",
    "    else:\n",
    "        strength = \"Strong\"\n",
    "    \n",
    "    return strength, total_score\n",
    "\n",
    "def main():\n",
    "    password = input(\"Enter a password to check its strength: \")\n",
    "    strength, score = evaluate_password(password)\n",
    "    print(f\"Password Strength: {strength} (Score: {score:.2f}/10)\")\n",
    "    \n",
    "if __name__ == \"__main__\":\n",
    "    main()\n"
   ]
  },
  {
   "cell_type": "code",
   "execution_count": null,
   "id": "78e86f19-414f-4387-b746-063a7080f3c0",
   "metadata": {},
   "outputs": [],
   "source": []
  }
 ],
 "metadata": {
  "kernelspec": {
   "display_name": "Python 3 (ipykernel)",
   "language": "python",
   "name": "python3"
  },
  "language_info": {
   "codemirror_mode": {
    "name": "ipython",
    "version": 3
   },
   "file_extension": ".py",
   "mimetype": "text/x-python",
   "name": "python",
   "nbconvert_exporter": "python",
   "pygments_lexer": "ipython3",
   "version": "3.12.4"
  }
 },
 "nbformat": 4,
 "nbformat_minor": 5
}
